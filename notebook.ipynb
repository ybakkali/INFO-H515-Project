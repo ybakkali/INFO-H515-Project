{
 "cells": [
  {
   "cell_type": "markdown",
   "metadata": {
    "pycharm": {
     "name": "#%% md\n"
    }
   },
   "source": [
    "# INTRODUCTION\n",
    "\n",
    "\n",
    "In this notebook we will be using the following packages:\n",
    "  * [pyspark](https://spark.apache.org/docs/latest/api/python/pyspark.html)\n",
    "  * [pandas](https://pandas.pydata.org/pandas-docs/stable/index.html)\n",
    "  * [pyarrow](https://arrow.apache.org/docs/python/index.html)\n",
    "\n",
    "## Specifications of the problem\n",
    "We are tasked to construct a recommender system as part of the recsyschallenge of 2022, organised by Dressipi, a company focused on providing product and outfit recommendations to leading global retailers.\n",
    "\n",
    "## Dataset\n",
    "The full dataset consists of 1.1 million online retail sessions in the fashion domain, sampled from a 18-month period.\n",
    "\n",
    "It is split in 4 csv files:\n",
    "   * candidate_items.csv : contains the candidate items for the recommender system. This means our model will provide those item_id as output of the prediction.\n",
    "   * item_features.csv : contains the features (for example material, type, colour, etc ... ) for each item, as well as the value of this feature (cotton, skinny, blue, etc ...)\n",
    "   * train_purchases.csv : contains the purchases at the end of each session.\n",
    "   * train_sessions.csv : contains the purchasing sessions, each session is a stream of items viewed, and when an item is purchased, the session ends.\n",
    "\n",
    "Using those 4 files, we will first develop a pipeline to trim it, then engineer the features to regroup different features into one dataset so that it can be used for the recommender system.\n"
   ]
  },
  {
   "cell_type": "markdown",
   "metadata": {
    "pycharm": {
     "name": "#%% md\n"
    }
   },
   "source": [
    "## Loading the dataset"
   ]
  },
  {
   "cell_type": "code",
   "execution_count": 94,
   "metadata": {
    "pycharm": {
     "name": "#%%\n"
    },
    "scrolled": false
   },
   "outputs": [],
   "source": [
    "from pyspark.sql import SparkSession\n",
    "from pyspark.sql import functions as F\n",
    "import numpy as np\n",
    "import os\n",
    "\n",
    "# start spark session\n",
    "os.environ['PYSPARK_SUBMIT_ARGS'] =\"--conf spark.driver.memory=8g  pyspark-shell\"\n",
    "spark = SparkSession \\\n",
    "    .builder \\\n",
    "    .master(\"local[*]\") \\\n",
    "    .appName(\"AppName\") \\\n",
    "    .config('spark.ui.port', '4055')\\\n",
    "    .getOrCreate()\n",
    "\n",
    "candidate_items, item_features, train_purchases, train_sessions = [None] * 4\n",
    "datasets = [candidate_items, item_features, train_purchases, train_sessions]\n",
    "\n",
    "#load all datasets\n",
    "def load_candidate_items():\n",
    "    global candidate_items\n",
    "    candidate_items = spark.read.csv(\"dressipi_recsys2022/candidate_items.csv\", header=True)\n",
    "    candidate_items = candidate_items.withColumn(\"item_id\", candidate_items[\"item_id\"].cast(\"int\"))\n",
    "\n",
    "def load_item_features():\n",
    "    global item_features\n",
    "    item_features = spark.read.csv(\"dressipi_recsys2022/item_features.csv\", header=True)\n",
    "    item_features = item_features.withColumn(\"item_id\", item_features[\"item_id\"].cast(\"int\"))\n",
    "    item_features = item_features.withColumn(\"feature_category_id\", item_features[\"feature_category_id\"].cast(\"int\"))\n",
    "    item_features = item_features.withColumn(\"feature_value_id\", item_features[\"feature_value_id\"].cast(\"int\"))\n",
    "\n",
    "def load_train_purchases():\n",
    "    global train_purchases\n",
    "    train_purchases = spark.read.csv(\"dressipi_recsys2022/train_purchases.csv\", header=True)\n",
    "    train_purchases = train_purchases.withColumn(\"session_id\", train_purchases[\"session_id\"].cast(\"int\"))\n",
    "    train_purchases = train_purchases.withColumn(\"item_id\", train_purchases[\"item_id\"].cast(\"int\"))\n",
    "    train_purchases = train_purchases.withColumn(\"date\", train_purchases[\"date\"].cast(\"timestamp\"))\n",
    "\n",
    "def load_train_sessions():\n",
    "    global train_sessions\n",
    "    train_sessions = spark.read.csv(\"dressipi_recsys2022/train_sessions.csv\", header=True)\n",
    "    train_sessions = train_sessions.withColumn(\"session_id\", train_sessions[\"session_id\"].cast(\"int\"))\n",
    "    train_sessions = train_sessions.withColumn(\"item_id\", train_sessions[\"item_id\"].cast(\"int\"))\n",
    "    train_sessions = train_sessions.withColumn(\"date\", train_sessions[\"date\"].cast(\"timestamp\"))\n",
    "\n",
    "def load_datasets():\n",
    "    global datasets\n",
    "    load_candidate_items()\n",
    "    load_item_features()\n",
    "    load_train_purchases()\n",
    "    load_train_sessions()\n",
    "    datasets = [candidate_items, item_features, train_purchases, train_sessions]\n",
    "\n",
    "load_datasets()\n"
   ]
  },
  {
   "cell_type": "markdown",
   "metadata": {
    "pycharm": {
     "name": "#%% md\n"
    }
   },
   "source": [
    "## Quick look at the data"
   ]
  },
  {
   "cell_type": "markdown",
   "metadata": {
    "pycharm": {
     "name": "#%% md\n"
    }
   },
   "source": [
    "#### train_sessions.csv\n",
    "This dataset represents the browsing session of a user in the store. It is made of 3 columns:\n",
    "- session_id : the id of the session. It serves as a key to join the data with the other datasets\n",
    "- item_id : the item viewed during the session.\n",
    "- date : the date of at wich the item was viewed.\n",
    "\n",
    "Please note that the browsing sessions end at the end of the day, or if an item was purchased. This means we will not find, for one session, items viewed on 2 different days.\n",
    "Also, as stated on the challenge's website, there are no sessions that do not end with a purchased item in this dataset.\n",
    "\n",
    "Here is a representation of a few of the rows in the train_sessions.csv dataset:"
   ]
  },
  {
   "cell_type": "code",
   "execution_count": 3,
   "metadata": {
    "pycharm": {
     "name": "#%%\n"
    }
   },
   "outputs": [
    {
     "name": "stdout",
     "output_type": "stream",
     "text": [
      "+----------+-------+--------------------+\n",
      "|session_id|item_id|                date|\n",
      "+----------+-------+--------------------+\n",
      "|         3|   9655|2020-12-18 21:25:...|\n",
      "|         3|   9655|2020-12-18 21:19:...|\n",
      "|        13|  15654|2020-03-13 19:35:...|\n",
      "|        18|  18316|2020-08-26 19:18:...|\n",
      "|        18|   2507|2020-08-26 19:16:...|\n",
      "+----------+-------+--------------------+\n",
      "only showing top 5 rows\n",
      "\n",
      "There are 4743820 rows in total.\n"
     ]
    }
   ],
   "source": [
    "train_sessions.show(5)\n",
    "print(f\"There are {train_sessions.count()} rows in total.\")"
   ]
  },
  {
   "cell_type": "markdown",
   "metadata": {
    "pycharm": {
     "name": "#%% md\n"
    }
   },
   "source": [
    "#### train_purchases.csv\n",
    "\n",
    "This dataset represents the purchases made by a user in the store. It is made of 3 columns:\n",
    "- session_id : the id of the session.\n",
    "- item_id : the item purchased.\n",
    "- date : the date of at wich the item was purchased.\n",
    "\n",
    "This dataset should be used with the train_sessions dataset to have a more complete picture of the browsing experience of the user. Each session in this dataset ends with an item purchased, noted in the column item_id.\n",
    "\n",
    "Here is a representation of a few of the rows in the train_purchases.csv dataset:"
   ]
  },
  {
   "cell_type": "code",
   "execution_count": 4,
   "metadata": {
    "pycharm": {
     "name": "#%%\n"
    }
   },
   "outputs": [
    {
     "name": "stdout",
     "output_type": "stream",
     "text": [
      "+----------+-------+--------------------+\n",
      "|session_id|item_id|                date|\n",
      "+----------+-------+--------------------+\n",
      "|         3|  15085|2020-12-18 21:26:...|\n",
      "|        13|  18626|2020-03-13 19:36:...|\n",
      "|        18|  24911|2020-08-26 19:20:...|\n",
      "|        19|  12534|2020-11-02 17:16:...|\n",
      "|        24|  13226|2020-02-26 18:27:...|\n",
      "+----------+-------+--------------------+\n",
      "only showing top 5 rows\n",
      "\n",
      "There are 1000000 rows in total.\n"
     ]
    }
   ],
   "source": [
    "train_purchases.show(5)\n",
    "print(f\"There are {train_purchases.count()} rows in total.\")"
   ]
  },
  {
   "cell_type": "markdown",
   "metadata": {
    "pycharm": {
     "name": "#%% md\n"
    }
   },
   "source": [
    "#### item_features.csv\n",
    "\n",
    "This dataset helps us notice pattern in different objects. It links the item_id with their feature (such as the color of the item, the material, the type, etc ...).\n",
    "There are 3 columns :\n",
    "- item_id : the id of the item in the store.\n",
    "- feature_id : the id of the feature attached to the item.\n",
    "- value : the value of the feature for that item. (for example if the feature_category_id is the color, the feature_value_id could be a representation of \"red\", \"blue\", \"green\", etc ...)\n",
    "\n",
    "Here is a representation of a few of the rows in the item_features.csv dataset:"
   ]
  },
  {
   "cell_type": "code",
   "execution_count": 5,
   "metadata": {
    "pycharm": {
     "name": "#%%\n"
    }
   },
   "outputs": [
    {
     "name": "stdout",
     "output_type": "stream",
     "text": [
      "+-------+-------------------+----------------+\n",
      "|item_id|feature_category_id|feature_value_id|\n",
      "+-------+-------------------+----------------+\n",
      "|      2|                 56|             365|\n",
      "|      2|                 62|             801|\n",
      "|      2|                 68|             351|\n",
      "|      2|                 33|             802|\n",
      "|      2|                 72|              75|\n",
      "+-------+-------------------+----------------+\n",
      "only showing top 5 rows\n",
      "\n",
      "There are 471751 rows in total.\n"
     ]
    }
   ],
   "source": [
    "item_features.show(5)\n",
    "print(f\"There are {item_features.count()} rows in total.\")"
   ]
  },
  {
   "cell_type": "markdown",
   "metadata": {
    "pycharm": {
     "name": "#%% md\n"
    }
   },
   "source": [
    "#### candidate_items.csv\n",
    "\n",
    "This dataset contains all the item_id that are candidate to the recommandation system. It consists of a column of 4991 item_id.\n",
    "\n",
    "Here is a representation of a few of the rows in the candidate_items.csv dataset:"
   ]
  },
  {
   "cell_type": "code",
   "execution_count": 6,
   "metadata": {
    "pycharm": {
     "name": "#%%\n"
    }
   },
   "outputs": [
    {
     "name": "stdout",
     "output_type": "stream",
     "text": [
      "+-------+\n",
      "|item_id|\n",
      "+-------+\n",
      "|      4|\n",
      "|      8|\n",
      "|      9|\n",
      "|     19|\n",
      "|     20|\n",
      "+-------+\n",
      "only showing top 5 rows\n",
      "\n",
      "There are 4990 rows in total.\n"
     ]
    }
   ],
   "source": [
    "candidate_items.show(5)\n",
    "print(f\"There are {candidate_items.count()} rows in total.\")"
   ]
  },
  {
   "cell_type": "markdown",
   "metadata": {
    "pycharm": {
     "name": "#%% md\n"
    }
   },
   "source": [
    "# Part 1 : Pipeline"
   ]
  },
  {
   "cell_type": "markdown",
   "metadata": {},
   "source": [
    "## Data exploration"
   ]
  },
  {
   "cell_type": "markdown",
   "metadata": {
    "pycharm": {
     "name": "#%% md\n"
    }
   },
   "source": [
    "We will first check if there are missing values, NA, or Null values in the downloaded dataset."
   ]
  },
  {
   "cell_type": "code",
   "execution_count": 7,
   "metadata": {
    "pycharm": {
     "name": "#%%\n"
    }
   },
   "outputs": [
    {
     "name": "stdout",
     "output_type": "stream",
     "text": [
      "Nb of missing values in candidate_items: 0\n",
      "Nb of missing values in item_features: 0\n",
      "Nb of missing values in train_purchases: 0\n",
      "Nb of missing values in train_sessions: 0\n"
     ]
    }
   ],
   "source": [
    "print(\"Nb of missing values in candidate_items:\", candidate_items.filter(candidate_items[\"item_id\"].isNull()).count())\n",
    "print(\"Nb of missing values in item_features:\", item_features.filter(item_features[\"item_id\"].isNull()).count())\n",
    "print(\"Nb of missing values in train_purchases:\", train_purchases.filter(train_purchases[\"item_id\"].isNull()).count())\n",
    "print(\"Nb of missing values in train_sessions:\", train_sessions.filter(train_sessions[\"item_id\"].isNull()).count())"
   ]
  },
  {
   "cell_type": "markdown",
   "metadata": {},
   "source": [
    "Now, we wondered if there are sessions for which the first item viewed was purchased (therefore it will not be in train_sessions but in train_purchases), and we also made sure that there are no sessions for which there were no purchases."
   ]
  },
  {
   "cell_type": "code",
   "execution_count": 8,
   "metadata": {},
   "outputs": [
    {
     "name": "stdout",
     "output_type": "stream",
     "text": [
      "Nb of session id in train_sessions but not in train_purchases: 0\n",
      "Nb of session id in train_purchases but not in train_sessions: 0\n"
     ]
    }
   ],
   "source": [
    "t = [a[\"session_id\"] for a in train_sessions.select(\"session_id\").collect()]\n",
    "p = [a[\"session_id\"] for a in train_purchases.select(\"session_id\").collect()]\n",
    "\n",
    "print(f\"Nb of session id in train_sessions but not in train_purchases: {len(set(t).difference(set(p)))}\")\n",
    "print(f\"Nb of session id in train_purchases but not in train_sessions: {len(set(p).difference(set(t)))}\")"
   ]
  },
  {
   "cell_type": "markdown",
   "metadata": {},
   "source": [
    "Then we wanted to know how much data we were working with so we counted the number of different item_id in each dataset."
   ]
  },
  {
   "cell_type": "code",
   "execution_count": 9,
   "metadata": {},
   "outputs": [
    {
     "name": "stdout",
     "output_type": "stream",
     "text": [
      "Nb of distinct item id in train_sessions: 23496\n",
      "Nb of distinct item id in train_purchases: 18907\n",
      "Nb of distinct item id in candidate_items: 4990\n",
      "Nb of distinct item id in item_features: 23691\n"
     ]
    }
   ],
   "source": [
    "a = train_sessions.select(\"item_id\").distinct().collect()\n",
    "b = train_purchases.select(\"item_id\").distinct().collect()\n",
    "c = candidate_items.select(\"item_id\").distinct().collect()\n",
    "d = item_features.select(\"item_id\").distinct().collect()\n",
    "print(f\"Nb of distinct item id in train_sessions: {len(a)}\")\n",
    "print(f\"Nb of distinct item id in train_purchases: {len(b)}\")\n",
    "print(f\"Nb of distinct item id in candidate_items: {len(c)}\")\n",
    "print(f\"Nb of distinct item id in item_features: {len(d)}\")"
   ]
  },
  {
   "cell_type": "markdown",
   "metadata": {},
   "source": [
    "We cannot know if those items are the same or different, but by running the next cell we discover that there are no items in train_sessions that are not in another dataset. Therefore we know that we have at least 23496 items."
   ]
  },
  {
   "cell_type": "code",
   "execution_count": 10,
   "metadata": {},
   "outputs": [
    {
     "name": "stdout",
     "output_type": "stream",
     "text": [
      "Nb of item id in train_sessions but not in item_features: 0\n",
      "Nb of item id in train_sessions but not in train_purchases: 0\n",
      "Nb of item id in train_sessions but not in candidate_items: 0\n"
     ]
    }
   ],
   "source": [
    "print(f\"Nb of item id in train_sessions but not in item_features: {len(set(a).difference(set(d)))}\")\n",
    "print(f\"Nb of item id in train_sessions but not in train_purchases: {len(set(b).difference(set(d)))}\")\n",
    "print(f\"Nb of item id in train_sessions but not in candidate_items: {len(set(c).difference(set(d)))}\")"
   ]
  },
  {
   "cell_type": "markdown",
   "metadata": {},
   "source": []
  },
  {
   "cell_type": "code",
   "execution_count": 65,
   "metadata": {},
   "outputs": [
    {
     "data": {
      "text/plain": [
       "[Row(sum(count(feature_value_id))=904)]"
      ]
     },
     "execution_count": 65,
     "metadata": {},
     "output_type": "execute_result"
    }
   ],
   "source": [
    "item_features.drop(\"item_id\").distinct().groupBy(\"feature_category_id\").agg(F.count(\"feature_value_id\")).agg(F.sum(\"count(feature_value_id)\")).collect()"
   ]
  },
  {
   "cell_type": "markdown",
   "metadata": {
    "pycharm": {
     "name": "#%% md\n"
    }
   },
   "source": [
    "## Feature engineering"
   ]
  },
  {
   "cell_type": "markdown",
   "metadata": {},
   "source": [
    "First let's create usefull RDDs from the dataset"
   ]
  },
  {
   "cell_type": "code",
   "execution_count": 95,
   "metadata": {},
   "outputs": [],
   "source": [
    "session_item_date_rdd = train_sessions.rdd.map(lambda x: (x[\"session_id\"], (x[\"item_id\"], x[\"date\"]))).cache()\n",
    "session_item_rdd = session_item_date_rdd.mapValues(lambda x: (x[0])).cache()\n",
    "session_date_rdd = session_item_date_rdd.mapValues(lambda x: (x[1])).cache()"
   ]
  },
  {
   "cell_type": "code",
   "execution_count": 96,
   "metadata": {},
   "outputs": [],
   "source": [
    "purchase_item_rdd = train_purchases.rdd.map(lambda x: (x[\"session_id\"], x[\"item_id\"])).cache()"
   ]
  },
  {
   "cell_type": "code",
   "execution_count": 97,
   "metadata": {},
   "outputs": [],
   "source": [
    "item_features_rdd = item_features.rdd.map(lambda x: (x[\"item_id\"], (x[\"feature_category_id\"], x[\"feature_value_id\"]))).groupByKey().mapValues(lambda x: [(a,b) for a, b in x])"
   ]
  },
  {
   "cell_type": "markdown",
   "metadata": {
    "pycharm": {
     "name": "#%% md\n"
    }
   },
   "source": [
    "1) Month\n",
    "\n",
    "    It tells us in which month the session began.\n",
    "\n",
    "    The pieces of clothes bought most likely depend on the month of the purchase. The purchases of sweaters should not be the same in december and in july."
   ]
  },
  {
   "cell_type": "code",
   "execution_count": 14,
   "metadata": {
    "pycharm": {
     "name": "#%%\n"
    }
   },
   "outputs": [
    {
     "name": "stdout",
     "output_type": "stream",
     "text": [
      "[(24, 2), (48, 4), (384, 12), (480, 4), (696, 3)]\n"
     ]
    }
   ],
   "source": [
    "def get_month_feature():\n",
    "    return session_date_rdd.mapValues(lambda x: int(x.strftime(\"%m\"))).reduceByKey(min)\n",
    "    \n",
    "month = get_month_feature()\n",
    "print(month.take(5))"
   ]
  },
  {
   "cell_type": "markdown",
   "metadata": {
    "pycharm": {
     "name": "#%% md\n"
    }
   },
   "source": [
    "2) Season (Meteorological)\n",
    "\n",
    "    It tells us in which meteorological season the session began.\n",
    "    \n",
    "    Maybe the month feature is too restrictive and needs bigger categories.\n"
   ]
  },
  {
   "cell_type": "code",
   "execution_count": 15,
   "metadata": {
    "pycharm": {
     "name": "#%%\n"
    }
   },
   "outputs": [
    {
     "name": "stdout",
     "output_type": "stream",
     "text": [
      "[(24, 0.0), (48, 1), (384, 0.0), (480, 1), (696, 1)]\n"
     ]
    }
   ],
   "source": [
    "def get_season_feature():\n",
    "    return month.mapValues(get_season).reduceByKey(min)\n",
    "\n",
    "def get_season(month):\n",
    "    if month == 12 or month <= 2: return 0.0\n",
    "    elif 2 < month <= 5: return 1\n",
    "    elif 5 < month <= 8: return 2\n",
    "    elif 8 < month <= 11: return 3\n",
    "\n",
    "season = get_season_feature()\n",
    "print(season.take(5))"
   ]
  },
  {
   "cell_type": "markdown",
   "metadata": {
    "pycharm": {
     "name": "#%% md\n"
    }
   },
   "source": [
    "3) Day of month\n",
    "\n",
    "    It tells us at which day of the month the session began.\n",
    "    \n",
    "    The salaries are often paid at the start or the middle of the month, and should affect the purchases.\n"
   ]
  },
  {
   "cell_type": "code",
   "execution_count": 16,
   "metadata": {
    "pycharm": {
     "name": "#%%\n"
    }
   },
   "outputs": [
    {
     "name": "stdout",
     "output_type": "stream",
     "text": [
      "[(24, 26), (48, 15), (384, 18), (480, 4), (696, 18)]\n"
     ]
    }
   ],
   "source": [
    "def get_day_of_month_feature():\n",
    "    return session_date_rdd.mapValues(lambda x: int(x.strftime(\"%d\"))).reduceByKey(min)\n",
    "\n",
    "day_of_month = get_day_of_month_feature()\n",
    "print(day_of_month.take(5))"
   ]
  },
  {
   "cell_type": "markdown",
   "metadata": {
    "pycharm": {
     "name": "#%% md\n"
    }
   },
   "source": [
    "4) Weekday\n",
    "\n",
    "    It tells us at which weekday the session began.\n",
    "    \n",
    "    ?\n"
   ]
  },
  {
   "cell_type": "code",
   "execution_count": 17,
   "metadata": {
    "pycharm": {
     "name": "#%%\n"
    }
   },
   "outputs": [
    {
     "name": "stdout",
     "output_type": "stream",
     "text": [
      "[(24, 3), (48, 3), (384, 5), (480, 0), (696, 3)]\n"
     ]
    }
   ],
   "source": [
    "def get_weekday_feature():\n",
    "    return session_date_rdd.mapValues(lambda x: int(x.strftime(\"%w\"))).reduceByKey(min)\n",
    "weekday = get_weekday_feature()\n",
    "print(weekday.take(5))"
   ]
  },
  {
   "cell_type": "markdown",
   "metadata": {},
   "source": [
    "5) Weekend\n",
    "\n",
    "    It tells us if the session began on a weekend.\n",
    "    \n",
    "    Maybe the weekday feature is too specific and the ?\n"
   ]
  },
  {
   "cell_type": "code",
   "execution_count": 18,
   "metadata": {},
   "outputs": [
    {
     "name": "stdout",
     "output_type": "stream",
     "text": [
      "[(24, 0), (48, 0), (384, 1), (480, 0), (696, 0)]\n"
     ]
    }
   ],
   "source": [
    "def get_weekend_feature():\n",
    "    return weekday.mapValues(lambda x: int(x in (5, 6)))\n",
    "\n",
    "weekend = get_weekend_feature()\n",
    "print(weekend.take(5))"
   ]
  },
  {
   "cell_type": "markdown",
   "metadata": {
    "pycharm": {
     "name": "#%% md\n"
    }
   },
   "source": [
    "6) Hour\n",
    "\n",
    "    It tells us at which hour the session began.\n",
    "    \n",
    "    ?\n"
   ]
  },
  {
   "cell_type": "code",
   "execution_count": 19,
   "metadata": {
    "pycharm": {
     "name": "#%%\n"
    }
   },
   "outputs": [
    {
     "name": "stdout",
     "output_type": "stream",
     "text": [
      "[(24, 17), (48, 17), (384, 8), (480, 11), (696, 8)]\n"
     ]
    }
   ],
   "source": [
    "def get_hour_feature():\n",
    "    return session_date_rdd.mapValues(lambda x: int(x.strftime(\"%H\"))).reduceByKey(min)\n",
    "\n",
    "hour = get_hour_feature()\n",
    "print(hour.take(5))"
   ]
  },
  {
   "cell_type": "markdown",
   "metadata": {},
   "source": [
    "7) Day period\n",
    "\n",
    "    It tells us at which period of the day the session began.\n",
    "    \n",
    "    Maybe the hour feature is too restrictive ?\n"
   ]
  },
  {
   "cell_type": "code",
   "execution_count": 20,
   "metadata": {},
   "outputs": [
    {
     "name": "stdout",
     "output_type": "stream",
     "text": [
      "[(24, 1), (48, 1), (384, 0), (480, 0), (696, 0)]\n"
     ]
    }
   ],
   "source": [
    "def get_day_period_feature():\n",
    "    return hour.mapValues(get_day)\n",
    "\n",
    "def get_day(x):\n",
    "    if 6 < x < 12: return 0\n",
    "    elif 12 < x < 18: return 1\n",
    "    elif 18 < x < 22: return 2\n",
    "    else: return 3\n",
    "    \n",
    "day_period = get_day_period_feature()\n",
    "print(day_period.take(5))"
   ]
  },
  {
   "cell_type": "markdown",
   "metadata": {},
   "source": [
    "8) Night\n",
    "\n",
    "    It tells us if the session began at night.\n",
    "    \n",
    "    Maybe the day period feature is still too restrictive ?\n"
   ]
  },
  {
   "cell_type": "code",
   "execution_count": 21,
   "metadata": {},
   "outputs": [
    {
     "name": "stdout",
     "output_type": "stream",
     "text": [
      "[(24, 0), (48, 0), (384, 0), (480, 0), (696, 0)]\n"
     ]
    }
   ],
   "source": [
    "def get_night_feature():\n",
    "    return day_period.mapValues(lambda x: int(x == 3))\n",
    "\n",
    "night = get_night_feature()\n",
    "print(night.take(5))"
   ]
  },
  {
   "cell_type": "markdown",
   "metadata": {},
   "source": [
    "9) Duration of the session\n",
    "\n",
    "    It tells us the duration of the session.\n",
    "    \n",
    "    ?\n"
   ]
  },
  {
   "cell_type": "code",
   "execution_count": 22,
   "metadata": {},
   "outputs": [
    {
     "name": "stdout",
     "output_type": "stream",
     "text": [
      "[(24, 3703.867), (48, 657.103), (384, 408.871), (480, 392.229), (696, 27.229)]\n"
     ]
    }
   ],
   "source": [
    "def get_duration_feature():\n",
    "    return session_date_rdd.groupByKey().mapValues(get_session_duration)\n",
    "\n",
    "def get_session_duration(dates):\n",
    "    dates = list(dates)\n",
    "    dates.sort()\n",
    "    return (dates[-1] - dates[0]).total_seconds() if len(dates) >= 2 else 0.0\n",
    "\n",
    "duration = get_duration_feature()\n",
    "print(duration.take(5))"
   ]
  },
  {
   "cell_type": "markdown",
   "metadata": {
    "pycharm": {
     "name": "#%% md\n"
    }
   },
   "source": [
    "10) Average time between consecutive item views\n",
    "\n",
    "    It tells us the average of time between the consecutive views of the items of the session.\n",
    "    \n",
    "    ?\n"
   ]
  },
  {
   "cell_type": "code",
   "execution_count": 23,
   "metadata": {
    "pycharm": {
     "name": "#%%\n"
    }
   },
   "outputs": [
    {
     "name": "stdout",
     "output_type": "stream",
     "text": [
      "[(24, 462.983375), (48, 657.103), (384, 45.430111), (480, 196.1145), (696, 27.229)]\n"
     ]
    }
   ],
   "source": [
    "def get_average_time_feature():\n",
    "    return session_date_rdd.groupByKey().mapValues(get_average_time)\n",
    "\n",
    "def get_average_time(dates):\n",
    "    import datetime\n",
    "    dates = sorted(list(dates))\n",
    "    avgs = [dates[i+1] - dates[i] for i in range(len(dates)-1)]\n",
    "    return (sum(avgs, datetime.timedelta())/len(avgs)).total_seconds() if len(avgs) > 0 else 0.0\n",
    "\n",
    "average_time = get_average_time_feature()\n",
    "\n",
    "print(average_time.take(5))"
   ]
  },
  {
   "cell_type": "markdown",
   "metadata": {
    "pycharm": {
     "name": "#%% md\n"
    }
   },
   "source": [
    "11) Number of distinct items\n",
    "\n",
    "    It tells us the number of distinct items viewed in the session.\n",
    "    \n",
    "    ?"
   ]
  },
  {
   "cell_type": "code",
   "execution_count": 24,
   "metadata": {
    "pycharm": {
     "name": "#%%\n"
    }
   },
   "outputs": [
    {
     "name": "stdout",
     "output_type": "stream",
     "text": [
      "[(24, 8), (48, 2), (384, 10), (480, 3), (696, 2)]\n"
     ]
    }
   ],
   "source": [
    "def get_distinct_nb_feature():\n",
    "    return session_item_rdd.groupByKey().mapValues(lambda x: len(set(x)))\n",
    "\n",
    "distinct_nb = get_distinct_nb_feature()\n",
    "print(distinct_nb.take(5))"
   ]
  },
  {
   "cell_type": "markdown",
   "metadata": {
    "pycharm": {
     "name": "#%% md\n"
    }
   },
   "source": [
    "12) Number of repetitive items\n",
    "\n",
    "    It tells us ?\n",
    "    \n",
    "    ?"
   ]
  },
  {
   "cell_type": "code",
   "execution_count": 25,
   "metadata": {
    "pycharm": {
     "name": "#%%\n"
    }
   },
   "outputs": [
    {
     "name": "stdout",
     "output_type": "stream",
     "text": [
      "[(24, 1), (48, 0), (384, 0), (480, 0), (696, 0)]\n"
     ]
    }
   ],
   "source": [
    "def get_repetitive_nb_feature():\n",
    "    return session_item_rdd.groupByKey().mapValues(lambda x: len(list(x)) - len(set(x)))\n",
    "\n",
    "repetitive_nb = get_repetitive_nb_feature()\n",
    "print(repetitive_nb.take(5))"
   ]
  },
  {
   "cell_type": "markdown",
   "metadata": {
    "pycharm": {
     "name": "#%% md\n"
    }
   },
   "source": [
    "13) Same category\n",
    "\n",
    "\n",
    "    It tells us the number of categories which appear at least twice in the items of the session.\n",
    "    \n",
    "    ?"
   ]
  },
  {
   "cell_type": "code",
   "execution_count": 26,
   "metadata": {
    "pycharm": {
     "name": "#%%\n"
    }
   },
   "outputs": [
    {
     "name": "stdout",
     "output_type": "stream",
     "text": [
      "[(165334, 25), (429494, 42), (480350, 116), (588952, 46), (866528, 38)]\n"
     ]
    }
   ],
   "source": [
    "def get_same_category_feature():\n",
    "    return item_features_rdd.join(train_sessions.rdd.map(lambda x: (x[\"item_id\"], x[\"session_id\"]))).map(lambda x: (x[1][1], x[1][0])).groupByKey().mapValues(get_same_category)\n",
    "\n",
    "def get_same_category(x):\n",
    "    dico = dict()\n",
    "    for item in x:\n",
    "        for cat in item:\n",
    "            if cat in dico:\n",
    "                dico[cat] += 1\n",
    "            else:\n",
    "                dico[cat] = 0\n",
    "\n",
    "    res = 0\n",
    "    for val in dico.values():\n",
    "        if val > 0:\n",
    "            res += 1\n",
    "\n",
    "    return res\n",
    "\n",
    "same_category = get_same_category_feature()\n",
    "print(same_category.take(5))"
   ]
  },
  {
   "cell_type": "markdown",
   "metadata": {
    "pycharm": {
     "name": "#%% md\n"
    }
   },
   "source": [
    "14) Different category\n",
    "\n",
    "    It tells us ?\n",
    "    \n",
    "    ?"
   ]
  },
  {
   "cell_type": "code",
   "execution_count": 27,
   "metadata": {
    "pycharm": {
     "name": "#%%\n"
    }
   },
   "outputs": [
    {
     "name": "stdout",
     "output_type": "stream",
     "text": [
      "[(165334, 28), (429494, 32), (480350, 51), (588952, 23), (866528, 2)]\n"
     ]
    }
   ],
   "source": [
    "def get_diff_category():\n",
    "    return item_features_rdd.join(train_sessions.rdd.map(lambda x: (x[\"item_id\"], x[\"session_id\"]))).map(lambda x: (x[1][1], x[1][0])).groupByKey().mapValues(get_different_category)\n",
    "\n",
    "def get_different_category(x):\n",
    "    dico = dict()\n",
    "    for item in x:\n",
    "        for cat in item:\n",
    "            if cat in dico:\n",
    "                dico[cat] += 1\n",
    "            else:\n",
    "                dico[cat] = 0\n",
    "\n",
    "    res = 0\n",
    "    for val in dico.values():\n",
    "        if val == 0:\n",
    "            res += 1\n",
    "\n",
    "    return res\n",
    "\n",
    "diff_category = get_diff_category()\n",
    "print(diff_category.take(5))"
   ]
  },
  {
   "cell_type": "markdown",
   "metadata": {
    "pycharm": {
     "name": "#%% md\n"
    }
   },
   "source": [
    "15) Last item\n",
    "\n",
    "    It tells us the last item that was seen in the session.\n",
    "    \n",
    "    The last item seen in the session should be closer to the purchased item than the first one."
   ]
  },
  {
   "cell_type": "code",
   "execution_count": 28,
   "metadata": {
    "pycharm": {
     "name": "#%%\n"
    }
   },
   "outputs": [
    {
     "name": "stdout",
     "output_type": "stream",
     "text": [
      "[(24, 18476), (48, 26404), (384, 27183), (480, 16377), (696, 24687)]\n"
     ]
    }
   ],
   "source": [
    "def get_last_item_feature():\n",
    "    return session_item_date_rdd.groupByKey().mapValues(lambda x: max(x, key=lambda i: i[1])[0])\n",
    "\n",
    "def get_last_item(items):\n",
    "    return max(list(items), key=lambda i: i[1])[0]\n",
    "\n",
    "last_item = get_last_item_feature()\n",
    "print(last_item.take(5))"
   ]
  },
  {
   "cell_type": "markdown",
   "metadata": {},
   "source": [
    "16) Most present category\n",
    "\n",
    "    It tells us the most present category in the different items seen in the session.\n",
    "    \n",
    "    The most present category should be highly be related to the purchased item."
   ]
  },
  {
   "cell_type": "code",
   "execution_count": 29,
   "metadata": {},
   "outputs": [
    {
     "name": "stdout",
     "output_type": "stream",
     "text": [
      "[(165334, (3, 793)), (429494, (3, 793)), (480350, (1, 461)), (588952, (3, 793)), (866528, (3, 793))]\n"
     ]
    }
   ],
   "source": [
    "def get_most_present_category_feature():\n",
    "    return item_features_rdd.join(train_sessions.rdd.map(lambda x: (x[\"item_id\"], x[\"session_id\"]))).map(lambda x: (x[1][1], x[1][0])).groupByKey().mapValues(get_most_present_category)\n",
    "\n",
    "def get_most_present_category(categories_i):\n",
    "    categories = [cat for cat_i in categories_i for cat in cat_i]    \n",
    "    categories.sort()\n",
    "    \n",
    "    most_viewed = (None, -1)\n",
    "    last_viewed = categories[0]\n",
    "    cnt = 0\n",
    "    \n",
    "    for category in categories:\n",
    "        if last_viewed != category:\n",
    "            if cnt > most_viewed[1]:\n",
    "                most_viewed = (last_viewed, cnt)\n",
    "                cnt = 1\n",
    "                last_viewed = category\n",
    "        else:\n",
    "            cnt += 1\n",
    "            \n",
    "    if cnt > most_viewed[1]:\n",
    "        most_viewed = (last_viewed, cnt)\n",
    "    \n",
    "    return most_viewed[0]\n",
    "    \n",
    "most_present_category = get_most_present_category_feature()\n",
    "print(most_present_category.take(5))"
   ]
  },
  {
   "cell_type": "markdown",
   "metadata": {},
   "source": [
    "17) Most viewed item\n",
    "\n",
    "    It tells us the most seen item in the session.\n",
    "    \n",
    "    The most seen item should be highly be related to the purchased item."
   ]
  },
  {
   "cell_type": "code",
   "execution_count": 30,
   "metadata": {},
   "outputs": [
    {
     "name": "stdout",
     "output_type": "stream",
     "text": [
      "[(24, 2927), (48, 8398), (384, 784), (480, 2915), (696, 22090)]\n"
     ]
    }
   ],
   "source": [
    "def get_most_viewed_item_feature():\n",
    "    return session_item_rdd.groupByKey().mapValues(get_most_viewed_item)\n",
    "\n",
    "def get_most_viewed_item(items):\n",
    "    items = list(items)\n",
    "    items.sort()\n",
    "    most_viewed = (None, -1)\n",
    "    \n",
    "    last_viewed = items[0]\n",
    "    cnt = 0\n",
    "    \n",
    "    for item in items:\n",
    "        if last_viewed != item:\n",
    "            if cnt > most_viewed[1]:\n",
    "                most_viewed = (last_viewed, cnt)\n",
    "                cnt = 1\n",
    "                last_viewed = item\n",
    "        else:\n",
    "            cnt += 1\n",
    "            \n",
    "    if cnt > most_viewed[1]:\n",
    "        most_viewed = (last_viewed, cnt)\n",
    "    \n",
    "    return most_viewed[0]\n",
    "    \n",
    "most_viewed_item = get_most_viewed_item_feature()\n",
    "print(most_viewed_item.take(5))"
   ]
  },
  {
   "cell_type": "markdown",
   "metadata": {},
   "source": [
    "18) Length of the session\n",
    "\n",
    "    It tells us the number of items seen in the session.\n",
    "    \n",
    "    ?"
   ]
  },
  {
   "cell_type": "code",
   "execution_count": 31,
   "metadata": {},
   "outputs": [
    {
     "name": "stdout",
     "output_type": "stream",
     "text": [
      "[(24, 9), (48, 2), (384, 10), (480, 3), (696, 2)]\n"
     ]
    }
   ],
   "source": [
    "def get_length_feature():\n",
    "    return session_item_rdd.groupByKey().mapValues(len)\n",
    "\n",
    "length = get_length_feature()\n",
    "print(length.take(5))"
   ]
  },
  {
   "cell_type": "markdown",
   "metadata": {},
   "source": [
    "19) Longest viewed item\n",
    "\n",
    "    It tells us the item that was seen the longest in the session.\n",
    "    \n",
    "    The longest viewed item should be highly related to the purchased item as it tells us that the user was most likely interested in it."
   ]
  },
  {
   "cell_type": "code",
   "execution_count": 32,
   "metadata": {},
   "outputs": [
    {
     "name": "stdout",
     "output_type": "stream",
     "text": [
      "[(24, 2927), (48, 8398), (384, 9582), (480, 2915), (696, 22090)]\n"
     ]
    }
   ],
   "source": [
    "def get_longest_item_feature():\n",
    "    return train_sessions.rdd.map(lambda x: (x[\"session_id\"], (x[\"item_id\"], x[\"date\"]))).\\\n",
    "                    groupByKey().\\\n",
    "                    mapValues(get_longest_item)\n",
    "\n",
    "def get_longest_item(items):\n",
    "    items = list(items)\n",
    "    t = [items[i+1][1] - items[i][1] for i in range(len(items)-1)]\n",
    "    return items[np.argmax(t)][0] if len(t) > 0 else items[0][0]\n",
    "\n",
    "longest_item = get_longest_item_feature()\n",
    "print(longest_item.take(5))"
   ]
  },
  {
   "cell_type": "markdown",
   "metadata": {},
   "source": [
    "20) Most present number of categories\n",
    "    \n",
    "    It tells us the most present number of categories of the items seen in the session.\n",
    "    \n",
    "    The number of categories of an item should be closely related to its type.\n"
   ]
  },
  {
   "cell_type": "code",
   "execution_count": 33,
   "metadata": {},
   "outputs": [
    {
     "name": "stdout",
     "output_type": "stream",
     "text": [
      "[(165334, 25.0), (429494, 25.0), (480350, 24.0), (588952, 25.0), (866528, 26.0)]\n"
     ]
    }
   ],
   "source": [
    "def get_categories_nb_feature():\n",
    "    return item_features_rdd.join(train_sessions.rdd.map(lambda x: (x[\"item_id\"], x[\"session_id\"]))).map(lambda x: (x[1][1], x[1][0])).groupByKey().mapValues(get_categories_nb)\n",
    "\n",
    "def get_categories_nb(cat):\n",
    "    lst = [len(c) for c in cat]\n",
    "    return float(max(set(lst), key=lst.count))\n",
    "    \n",
    "categories_nb = get_categories_nb_feature()\n",
    "print(categories_nb.take(5))"
   ]
  },
  {
   "cell_type": "markdown",
   "metadata": {},
   "source": [
    "21) Hash (MAYBE CHANGE THIS) Compressed \n",
    "    \n",
    "    It tell us the hash of the item set seen in the session, it is a compromise with the hot encoding of all the items as it would take too much space.\n",
    "    \n",
    "    Two identic sets of seen items would most likely end up with the same purchased item.\n"
   ]
  },
  {
   "cell_type": "code",
   "execution_count": 34,
   "metadata": {},
   "outputs": [
    {
     "name": "stdout",
     "output_type": "stream",
     "text": [
      "[(24, 5971015408950527618), (48, 7832911270832295574), (384, 5575645549726496508), (480, 6686949616036238645), (696, 1515478092954498483)]\n"
     ]
    }
   ],
   "source": [
    "def get_hash_items_feature():\n",
    "    return session_item_rdd.groupByKey().mapValues(lambda x: abs(hash(str(list(x)))))\n",
    "\n",
    "hash_items = get_hash_items_feature()\n",
    "print(hash_items.take(5))"
   ]
  },
  {
   "cell_type": "markdown",
   "metadata": {},
   "source": [
    "21) Item hot encoding"
   ]
  },
  {
   "cell_type": "code",
   "execution_count": 98,
   "metadata": {},
   "outputs": [],
   "source": [
    "\n",
    "def get_item_hot_encoding_feature():\n",
    "    return session_item_rdd.groupByKey().mapValues(get_item_hot_encoding)\n",
    "\n",
    "def get_item_hot_encoding(x):\n",
    "    res = [0] * len(broadcast_item_to_index.value)\n",
    "    for item in x:\n",
    "        res[broadcast_item_to_index.value[item]] = 1\n",
    "    return res\n",
    "\n",
    "item_to_index = {}\n",
    "i = 0\n",
    "for item in item_features.select(\"item_id\").distinct().collect():\n",
    "    item_to_index[item[\"item_id\"]] = i\n",
    "    i += 1\n",
    "\n",
    "broadcast_item_to_index = spark.sparkContext.broadcast(item_to_index)\n",
    "    \n",
    "item_hot_encoding = get_item_hot_encoding_feature()"
   ]
  },
  {
   "cell_type": "code",
   "execution_count": 75,
   "metadata": {},
   "outputs": [
    {
     "data": {
      "text/plain": [
       "[148, 471]"
      ]
     },
     "execution_count": 75,
     "metadata": {},
     "output_type": "execute_result"
    }
   ],
   "source": [
    "list(item_to_index.keys())[:2]"
   ]
  },
  {
   "cell_type": "code",
   "execution_count": 80,
   "metadata": {},
   "outputs": [
    {
     "data": {
      "text/plain": [
       "23691"
      ]
     },
     "execution_count": 80,
     "metadata": {},
     "output_type": "execute_result"
    }
   ],
   "source": [
    "len(item_to_index)"
   ]
  },
  {
   "cell_type": "code",
   "execution_count": 99,
   "metadata": {},
   "outputs": [
    {
     "data": {
      "text/plain": [
       "[(24,\n",
       "  [0,\n",
       "   0,\n",
       "   0,\n",
       "   0,\n",
       "   0,\n",
       "   0,\n",
       "   0,\n",
       "   0,\n",
       "   0,\n",
       "   0,\n",
       "   0,\n",
       "   0,\n",
       "   0,\n",
       "   0,\n",
       "   0,\n",
       "   0,\n",
       "   0,\n",
       "   0,\n",
       "   0,\n",
       "   0,\n",
       "   0,\n",
       "   0,\n",
       "   0,\n",
       "   0,\n",
       "   0,\n",
       "   0,\n",
       "   0,\n",
       "   0,\n",
       "   0,\n",
       "   0,\n",
       "   0,\n",
       "   0,\n",
       "   0,\n",
       "   0,\n",
       "   0,\n",
       "   0,\n",
       "   0,\n",
       "   0,\n",
       "   0,\n",
       "   0,\n",
       "   0,\n",
       "   0,\n",
       "   0,\n",
       "   0,\n",
       "   0,\n",
       "   0,\n",
       "   0,\n",
       "   0,\n",
       "   0,\n",
       "   0,\n",
       "   0,\n",
       "   0,\n",
       "   0,\n",
       "   0,\n",
       "   0,\n",
       "   0,\n",
       "   0,\n",
       "   0,\n",
       "   0,\n",
       "   0,\n",
       "   0,\n",
       "   0,\n",
       "   0,\n",
       "   0,\n",
       "   0,\n",
       "   0,\n",
       "   0,\n",
       "   0,\n",
       "   0,\n",
       "   0,\n",
       "   0,\n",
       "   0,\n",
       "   0,\n",
       "   0,\n",
       "   0,\n",
       "   0,\n",
       "   0,\n",
       "   0,\n",
       "   0,\n",
       "   0,\n",
       "   0,\n",
       "   0,\n",
       "   0,\n",
       "   0,\n",
       "   0,\n",
       "   0,\n",
       "   0,\n",
       "   0,\n",
       "   0,\n",
       "   0,\n",
       "   0,\n",
       "   0,\n",
       "   0,\n",
       "   0,\n",
       "   0,\n",
       "   0,\n",
       "   0,\n",
       "   0,\n",
       "   0,\n",
       "   0,\n",
       "   0,\n",
       "   0,\n",
       "   0,\n",
       "   0,\n",
       "   0,\n",
       "   0,\n",
       "   0,\n",
       "   0,\n",
       "   0,\n",
       "   0,\n",
       "   0,\n",
       "   0,\n",
       "   0,\n",
       "   0,\n",
       "   0,\n",
       "   0,\n",
       "   0,\n",
       "   0,\n",
       "   0,\n",
       "   0,\n",
       "   0,\n",
       "   0,\n",
       "   0,\n",
       "   0,\n",
       "   0,\n",
       "   0,\n",
       "   0,\n",
       "   0,\n",
       "   0,\n",
       "   0,\n",
       "   0,\n",
       "   0,\n",
       "   0,\n",
       "   0,\n",
       "   0,\n",
       "   0,\n",
       "   0,\n",
       "   0,\n",
       "   0,\n",
       "   0,\n",
       "   0,\n",
       "   0,\n",
       "   0,\n",
       "   0,\n",
       "   0,\n",
       "   0,\n",
       "   0,\n",
       "   0,\n",
       "   0,\n",
       "   0,\n",
       "   0,\n",
       "   0,\n",
       "   0,\n",
       "   0,\n",
       "   0,\n",
       "   0,\n",
       "   0,\n",
       "   0,\n",
       "   0,\n",
       "   0,\n",
       "   0,\n",
       "   0,\n",
       "   0,\n",
       "   0,\n",
       "   0,\n",
       "   0,\n",
       "   0,\n",
       "   0,\n",
       "   0,\n",
       "   0,\n",
       "   0,\n",
       "   0,\n",
       "   0,\n",
       "   0,\n",
       "   0,\n",
       "   0,\n",
       "   0,\n",
       "   0,\n",
       "   0,\n",
       "   0,\n",
       "   0,\n",
       "   0,\n",
       "   0,\n",
       "   0,\n",
       "   0,\n",
       "   0,\n",
       "   0,\n",
       "   0,\n",
       "   0,\n",
       "   0,\n",
       "   0,\n",
       "   0,\n",
       "   0,\n",
       "   0,\n",
       "   0,\n",
       "   0,\n",
       "   0,\n",
       "   0,\n",
       "   0,\n",
       "   0,\n",
       "   0,\n",
       "   0,\n",
       "   0,\n",
       "   0,\n",
       "   0,\n",
       "   0,\n",
       "   0,\n",
       "   0,\n",
       "   0,\n",
       "   0,\n",
       "   0,\n",
       "   0,\n",
       "   0,\n",
       "   0,\n",
       "   0,\n",
       "   0,\n",
       "   0,\n",
       "   0,\n",
       "   0,\n",
       "   0,\n",
       "   0,\n",
       "   0,\n",
       "   0,\n",
       "   0,\n",
       "   0,\n",
       "   0,\n",
       "   0,\n",
       "   0,\n",
       "   0,\n",
       "   0,\n",
       "   0,\n",
       "   0,\n",
       "   0,\n",
       "   0,\n",
       "   0,\n",
       "   0,\n",
       "   0,\n",
       "   0,\n",
       "   0,\n",
       "   0,\n",
       "   0,\n",
       "   0,\n",
       "   0,\n",
       "   0,\n",
       "   0,\n",
       "   0,\n",
       "   0,\n",
       "   0,\n",
       "   0,\n",
       "   0,\n",
       "   0,\n",
       "   0,\n",
       "   0,\n",
       "   0,\n",
       "   0,\n",
       "   0,\n",
       "   0,\n",
       "   0,\n",
       "   0,\n",
       "   0,\n",
       "   0,\n",
       "   0,\n",
       "   0,\n",
       "   0,\n",
       "   0,\n",
       "   0,\n",
       "   0,\n",
       "   0,\n",
       "   0,\n",
       "   0,\n",
       "   0,\n",
       "   0,\n",
       "   0,\n",
       "   0,\n",
       "   0,\n",
       "   0,\n",
       "   0,\n",
       "   0,\n",
       "   0,\n",
       "   0,\n",
       "   0,\n",
       "   0,\n",
       "   0,\n",
       "   0,\n",
       "   0,\n",
       "   0,\n",
       "   0,\n",
       "   0,\n",
       "   0,\n",
       "   0,\n",
       "   0,\n",
       "   0,\n",
       "   0,\n",
       "   0,\n",
       "   0,\n",
       "   0,\n",
       "   0,\n",
       "   0,\n",
       "   0,\n",
       "   0,\n",
       "   0,\n",
       "   0,\n",
       "   0,\n",
       "   0,\n",
       "   0,\n",
       "   0,\n",
       "   0,\n",
       "   0,\n",
       "   0,\n",
       "   0,\n",
       "   0,\n",
       "   0,\n",
       "   0,\n",
       "   0,\n",
       "   0,\n",
       "   0,\n",
       "   0,\n",
       "   0,\n",
       "   0,\n",
       "   0,\n",
       "   0,\n",
       "   0,\n",
       "   0,\n",
       "   0,\n",
       "   0,\n",
       "   0,\n",
       "   0,\n",
       "   0,\n",
       "   0,\n",
       "   0,\n",
       "   0,\n",
       "   0,\n",
       "   0,\n",
       "   0,\n",
       "   0,\n",
       "   0,\n",
       "   0,\n",
       "   0,\n",
       "   0,\n",
       "   0,\n",
       "   0,\n",
       "   0,\n",
       "   0,\n",
       "   0,\n",
       "   0,\n",
       "   0,\n",
       "   0,\n",
       "   0,\n",
       "   0,\n",
       "   0,\n",
       "   0,\n",
       "   0,\n",
       "   0,\n",
       "   0,\n",
       "   0,\n",
       "   0,\n",
       "   0,\n",
       "   0,\n",
       "   0,\n",
       "   0,\n",
       "   0,\n",
       "   0,\n",
       "   0,\n",
       "   0,\n",
       "   0,\n",
       "   0,\n",
       "   0,\n",
       "   0,\n",
       "   0,\n",
       "   0,\n",
       "   0,\n",
       "   0,\n",
       "   0,\n",
       "   0,\n",
       "   0,\n",
       "   0,\n",
       "   0,\n",
       "   0,\n",
       "   0,\n",
       "   0,\n",
       "   0,\n",
       "   0,\n",
       "   0,\n",
       "   0,\n",
       "   0,\n",
       "   0,\n",
       "   0,\n",
       "   0,\n",
       "   0,\n",
       "   0,\n",
       "   0,\n",
       "   0,\n",
       "   0,\n",
       "   0,\n",
       "   0,\n",
       "   0,\n",
       "   0,\n",
       "   0,\n",
       "   0,\n",
       "   0,\n",
       "   0,\n",
       "   0,\n",
       "   0,\n",
       "   0,\n",
       "   0,\n",
       "   0,\n",
       "   0,\n",
       "   0,\n",
       "   0,\n",
       "   0,\n",
       "   0,\n",
       "   0,\n",
       "   0,\n",
       "   0,\n",
       "   0,\n",
       "   0,\n",
       "   0,\n",
       "   0,\n",
       "   0,\n",
       "   0,\n",
       "   0,\n",
       "   0,\n",
       "   0,\n",
       "   0,\n",
       "   0,\n",
       "   0,\n",
       "   0,\n",
       "   0,\n",
       "   0,\n",
       "   0,\n",
       "   0,\n",
       "   0,\n",
       "   0,\n",
       "   0,\n",
       "   0,\n",
       "   0,\n",
       "   0,\n",
       "   1,\n",
       "   0,\n",
       "   0,\n",
       "   0,\n",
       "   0,\n",
       "   0,\n",
       "   0,\n",
       "   0,\n",
       "   0,\n",
       "   0,\n",
       "   0,\n",
       "   0,\n",
       "   0,\n",
       "   0,\n",
       "   0,\n",
       "   0,\n",
       "   0,\n",
       "   0,\n",
       "   0,\n",
       "   0,\n",
       "   0,\n",
       "   0,\n",
       "   0,\n",
       "   0,\n",
       "   0,\n",
       "   0,\n",
       "   0,\n",
       "   0,\n",
       "   0,\n",
       "   0,\n",
       "   0,\n",
       "   0,\n",
       "   0,\n",
       "   0,\n",
       "   0,\n",
       "   0,\n",
       "   0,\n",
       "   0,\n",
       "   0,\n",
       "   0,\n",
       "   0,\n",
       "   0,\n",
       "   0,\n",
       "   0,\n",
       "   0,\n",
       "   0,\n",
       "   0,\n",
       "   0,\n",
       "   0,\n",
       "   0,\n",
       "   0,\n",
       "   0,\n",
       "   0,\n",
       "   0,\n",
       "   0,\n",
       "   0,\n",
       "   0,\n",
       "   0,\n",
       "   0,\n",
       "   0,\n",
       "   0,\n",
       "   0,\n",
       "   0,\n",
       "   0,\n",
       "   0,\n",
       "   0,\n",
       "   0,\n",
       "   0,\n",
       "   0,\n",
       "   0,\n",
       "   0,\n",
       "   0,\n",
       "   0,\n",
       "   0,\n",
       "   0,\n",
       "   0,\n",
       "   0,\n",
       "   0,\n",
       "   0,\n",
       "   0,\n",
       "   0,\n",
       "   0,\n",
       "   0,\n",
       "   0,\n",
       "   0,\n",
       "   0,\n",
       "   0,\n",
       "   0,\n",
       "   0,\n",
       "   0,\n",
       "   0,\n",
       "   0,\n",
       "   0,\n",
       "   0,\n",
       "   0,\n",
       "   0,\n",
       "   0,\n",
       "   0,\n",
       "   0,\n",
       "   0,\n",
       "   0,\n",
       "   0,\n",
       "   0,\n",
       "   0,\n",
       "   0,\n",
       "   0,\n",
       "   0,\n",
       "   0,\n",
       "   0,\n",
       "   0,\n",
       "   0,\n",
       "   0,\n",
       "   0,\n",
       "   0,\n",
       "   0,\n",
       "   0,\n",
       "   0,\n",
       "   0,\n",
       "   0,\n",
       "   0,\n",
       "   0,\n",
       "   0,\n",
       "   0,\n",
       "   0,\n",
       "   0,\n",
       "   0,\n",
       "   0,\n",
       "   0,\n",
       "   0,\n",
       "   0,\n",
       "   0,\n",
       "   0,\n",
       "   0,\n",
       "   0,\n",
       "   0,\n",
       "   0,\n",
       "   0,\n",
       "   0,\n",
       "   0,\n",
       "   0,\n",
       "   0,\n",
       "   0,\n",
       "   0,\n",
       "   0,\n",
       "   0,\n",
       "   0,\n",
       "   0,\n",
       "   0,\n",
       "   0,\n",
       "   0,\n",
       "   0,\n",
       "   0,\n",
       "   0,\n",
       "   0,\n",
       "   0,\n",
       "   0,\n",
       "   0,\n",
       "   0,\n",
       "   0,\n",
       "   0,\n",
       "   0,\n",
       "   0,\n",
       "   0,\n",
       "   0,\n",
       "   0,\n",
       "   0,\n",
       "   0,\n",
       "   0,\n",
       "   0,\n",
       "   0,\n",
       "   0,\n",
       "   0,\n",
       "   0,\n",
       "   0,\n",
       "   0,\n",
       "   0,\n",
       "   0,\n",
       "   0,\n",
       "   0,\n",
       "   0,\n",
       "   0,\n",
       "   0,\n",
       "   0,\n",
       "   0,\n",
       "   0,\n",
       "   0,\n",
       "   0,\n",
       "   0,\n",
       "   0,\n",
       "   0,\n",
       "   0,\n",
       "   0,\n",
       "   0,\n",
       "   0,\n",
       "   0,\n",
       "   0,\n",
       "   0,\n",
       "   0,\n",
       "   0,\n",
       "   0,\n",
       "   0,\n",
       "   0,\n",
       "   0,\n",
       "   0,\n",
       "   0,\n",
       "   0,\n",
       "   0,\n",
       "   0,\n",
       "   0,\n",
       "   0,\n",
       "   0,\n",
       "   0,\n",
       "   0,\n",
       "   0,\n",
       "   0,\n",
       "   0,\n",
       "   0,\n",
       "   0,\n",
       "   0,\n",
       "   0,\n",
       "   0,\n",
       "   0,\n",
       "   0,\n",
       "   0,\n",
       "   0,\n",
       "   0,\n",
       "   0,\n",
       "   0,\n",
       "   0,\n",
       "   0,\n",
       "   0,\n",
       "   0,\n",
       "   0,\n",
       "   0,\n",
       "   0,\n",
       "   0,\n",
       "   0,\n",
       "   0,\n",
       "   0,\n",
       "   0,\n",
       "   0,\n",
       "   0,\n",
       "   0,\n",
       "   0,\n",
       "   0,\n",
       "   0,\n",
       "   0,\n",
       "   0,\n",
       "   0,\n",
       "   0,\n",
       "   0,\n",
       "   0,\n",
       "   0,\n",
       "   0,\n",
       "   0,\n",
       "   0,\n",
       "   0,\n",
       "   0,\n",
       "   0,\n",
       "   0,\n",
       "   0,\n",
       "   0,\n",
       "   0,\n",
       "   0,\n",
       "   0,\n",
       "   0,\n",
       "   0,\n",
       "   0,\n",
       "   0,\n",
       "   0,\n",
       "   0,\n",
       "   0,\n",
       "   0,\n",
       "   0,\n",
       "   0,\n",
       "   0,\n",
       "   0,\n",
       "   0,\n",
       "   0,\n",
       "   0,\n",
       "   0,\n",
       "   0,\n",
       "   0,\n",
       "   0,\n",
       "   0,\n",
       "   0,\n",
       "   0,\n",
       "   0,\n",
       "   0,\n",
       "   0,\n",
       "   0,\n",
       "   0,\n",
       "   0,\n",
       "   0,\n",
       "   0,\n",
       "   0,\n",
       "   0,\n",
       "   0,\n",
       "   0,\n",
       "   0,\n",
       "   0,\n",
       "   0,\n",
       "   0,\n",
       "   0,\n",
       "   0,\n",
       "   0,\n",
       "   0,\n",
       "   0,\n",
       "   0,\n",
       "   0,\n",
       "   0,\n",
       "   0,\n",
       "   0,\n",
       "   0,\n",
       "   0,\n",
       "   0,\n",
       "   0,\n",
       "   0,\n",
       "   0,\n",
       "   0,\n",
       "   0,\n",
       "   0,\n",
       "   0,\n",
       "   0,\n",
       "   0,\n",
       "   0,\n",
       "   0,\n",
       "   0,\n",
       "   0,\n",
       "   0,\n",
       "   0,\n",
       "   0,\n",
       "   0,\n",
       "   0,\n",
       "   0,\n",
       "   0,\n",
       "   0,\n",
       "   0,\n",
       "   0,\n",
       "   0,\n",
       "   0,\n",
       "   0,\n",
       "   0,\n",
       "   0,\n",
       "   0,\n",
       "   0,\n",
       "   0,\n",
       "   0,\n",
       "   0,\n",
       "   0,\n",
       "   0,\n",
       "   0,\n",
       "   0,\n",
       "   0,\n",
       "   0,\n",
       "   0,\n",
       "   0,\n",
       "   0,\n",
       "   0,\n",
       "   0,\n",
       "   0,\n",
       "   0,\n",
       "   0,\n",
       "   0,\n",
       "   0,\n",
       "   0,\n",
       "   0,\n",
       "   0,\n",
       "   0,\n",
       "   0,\n",
       "   0,\n",
       "   0,\n",
       "   0,\n",
       "   0,\n",
       "   0,\n",
       "   0,\n",
       "   0,\n",
       "   0,\n",
       "   0,\n",
       "   0,\n",
       "   0,\n",
       "   0,\n",
       "   0,\n",
       "   0,\n",
       "   0,\n",
       "   0,\n",
       "   0,\n",
       "   0,\n",
       "   0,\n",
       "   0,\n",
       "   0,\n",
       "   0,\n",
       "   0,\n",
       "   0,\n",
       "   0,\n",
       "   0,\n",
       "   0,\n",
       "   0,\n",
       "   0,\n",
       "   0,\n",
       "   0,\n",
       "   0,\n",
       "   0,\n",
       "   0,\n",
       "   0,\n",
       "   0,\n",
       "   0,\n",
       "   0,\n",
       "   0,\n",
       "   0,\n",
       "   0,\n",
       "   0,\n",
       "   0,\n",
       "   0,\n",
       "   0,\n",
       "   0,\n",
       "   0,\n",
       "   0,\n",
       "   0,\n",
       "   0,\n",
       "   0,\n",
       "   0,\n",
       "   0,\n",
       "   0,\n",
       "   0,\n",
       "   0,\n",
       "   0,\n",
       "   0,\n",
       "   0,\n",
       "   0,\n",
       "   0,\n",
       "   0,\n",
       "   0,\n",
       "   0,\n",
       "   0,\n",
       "   0,\n",
       "   0,\n",
       "   0,\n",
       "   0,\n",
       "   0,\n",
       "   0,\n",
       "   0,\n",
       "   0,\n",
       "   0,\n",
       "   0,\n",
       "   0,\n",
       "   0,\n",
       "   0,\n",
       "   0,\n",
       "   0,\n",
       "   0,\n",
       "   0,\n",
       "   0,\n",
       "   0,\n",
       "   0,\n",
       "   0,\n",
       "   0,\n",
       "   0,\n",
       "   0,\n",
       "   0,\n",
       "   0,\n",
       "   0,\n",
       "   0,\n",
       "   0,\n",
       "   0,\n",
       "   0,\n",
       "   0,\n",
       "   0,\n",
       "   0,\n",
       "   0,\n",
       "   0,\n",
       "   0,\n",
       "   0,\n",
       "   0,\n",
       "   0,\n",
       "   0,\n",
       "   0,\n",
       "   0,\n",
       "   0,\n",
       "   0,\n",
       "   0,\n",
       "   0,\n",
       "   0,\n",
       "   0,\n",
       "   0,\n",
       "   0,\n",
       "   0,\n",
       "   0,\n",
       "   0,\n",
       "   0,\n",
       "   0,\n",
       "   0,\n",
       "   0,\n",
       "   0,\n",
       "   0,\n",
       "   0,\n",
       "   0,\n",
       "   0,\n",
       "   0,\n",
       "   0,\n",
       "   0,\n",
       "   0,\n",
       "   0,\n",
       "   0,\n",
       "   0,\n",
       "   0,\n",
       "   0,\n",
       "   0,\n",
       "   0,\n",
       "   0,\n",
       "   0,\n",
       "   0,\n",
       "   0,\n",
       "   0,\n",
       "   0,\n",
       "   0,\n",
       "   0,\n",
       "   0,\n",
       "   0,\n",
       "   0,\n",
       "   0,\n",
       "   0,\n",
       "   0,\n",
       "   0,\n",
       "   0,\n",
       "   0,\n",
       "   0,\n",
       "   0,\n",
       "   0,\n",
       "   0,\n",
       "   0,\n",
       "   0,\n",
       "   0,\n",
       "   0,\n",
       "   0,\n",
       "   0,\n",
       "   0,\n",
       "   0,\n",
       "   0,\n",
       "   0,\n",
       "   0,\n",
       "   0,\n",
       "   0,\n",
       "   0,\n",
       "   0,\n",
       "   0,\n",
       "   0,\n",
       "   0,\n",
       "   0,\n",
       "   0,\n",
       "   0,\n",
       "   0,\n",
       "   0,\n",
       "   0,\n",
       "   0,\n",
       "   0,\n",
       "   0,\n",
       "   0,\n",
       "   0,\n",
       "   0,\n",
       "   0,\n",
       "   0,\n",
       "   0,\n",
       "   ...])]"
      ]
     },
     "execution_count": 99,
     "metadata": {},
     "output_type": "execute_result"
    }
   ],
   "source": [
    "item_hot_encoding.take(1)"
   ]
  },
  {
   "cell_type": "markdown",
   "metadata": {},
   "source": [
    "## Joining features"
   ]
  },
  {
   "cell_type": "markdown",
   "metadata": {
    "pycharm": {
     "name": "#%% md\n"
    }
   },
   "source": [
    "All of these engineered features will be put in the same RDD with the id of the session as the key and the different features as the value.\n",
    "\n",
    "This will be done through consecutive join's on the key."
   ]
  },
  {
   "cell_type": "code",
   "execution_count": 35,
   "metadata": {
    "pycharm": {
     "name": "#%%\n"
    }
   },
   "outputs": [],
   "source": [
    "# features = [month, season, day_of_month, weekday, weekend, hour, day_period, night, duration, average_time, distinct_nb, repetitive_nb, same_category, diff_category, last_item, most_present_category, most_viewed_item, length, longest_item, categories_nb, hash_items]\n",
    "# features_name = [\"month\", \"season\", \"day_of_month\", \"weekday\", \"weekend\", \"hour\", \"day_period\", \"night\", \"duration\", \"average_time\", \"distinct_nb\", \"repetitive_nb\", \"same_category\", \"diff_category\", \"last_item\", \"most_present_category\", \"most_viewed_item\", \"length\", \"longest_item\", \"categories_nb\", \"hash_items\"]\n",
    "\n",
    "features = [month, season, day_of_month, weekday, weekend, hour, day_period, night, duration, average_time, distinct_nb, repetitive_nb, same_category, diff_category, last_item, most_viewed_item, length, longest_item, categories_nb]\n",
    "features_name = [\"month\", \"season\", \"day_of_month\", \"weekday\", \"weekend\", \"hour\", \"day_period\", \"night\", \"duration\", \"average_time\", \"distinct_nb\", \"repetitive_nb\", \"same_category\", \"diff_category\", \"last_item\", \"most_viewed_item\", \"length\", \"longest_item\", \"categories_nb\"]\n",
    "\n",
    "def get_full_rdd():\n",
    "    temp = purchase_item_rdd.join(features[0])\n",
    "    for i in range(1, len(features)):\n",
    "        feature = features[i]\n",
    "        temp = temp.join(feature).mapValues(lambda x: list(x[0])+[x[1]])\n",
    "    return temp\n",
    "\n",
    "BIG_RDD = get_full_rdd().cache()"
   ]
  },
  {
   "cell_type": "code",
   "execution_count": 36,
   "metadata": {
    "pycharm": {
     "is_executing": true,
     "name": "#%%\n"
    }
   },
   "outputs": [
    {
     "name": "stdout",
     "output_type": "stream",
     "text": [
      "[(4191900, [12090, 10, 3, 11, 0, 0, 12, 3, 1, 801.765, 400.8825, 3, 0, 14, 28, 5257, 4537, 3, 22402, 18.0])]\n"
     ]
    }
   ],
   "source": [
    "print(BIG_RDD.take(1))"
   ]
  },
  {
   "cell_type": "code",
   "execution_count": 37,
   "metadata": {},
   "outputs": [
    {
     "ename": "SyntaxError",
     "evalue": "invalid syntax (<ipython-input-37-531f1a2fbc02>, line 1)",
     "output_type": "error",
     "traceback": [
      "\u001b[0;36m  File \u001b[0;32m\"<ipython-input-37-531f1a2fbc02>\"\u001b[0;36m, line \u001b[0;32m1\u001b[0m\n\u001b[0;31m    aha ha # TEST\u001b[0m\n\u001b[0m         ^\u001b[0m\n\u001b[0;31mSyntaxError\u001b[0m\u001b[0;31m:\u001b[0m invalid syntax\n"
     ]
    }
   ],
   "source": [
    "aha ha # TEST"
   ]
  },
  {
   "cell_type": "markdown",
   "metadata": {
    "pycharm": {
     "name": "#%% md\n"
    }
   },
   "source": [
    "# Part 2 : Feature selection\n"
   ]
  },
  {
   "cell_type": "markdown",
   "metadata": {
    "pycharm": {
     "name": "#%% md\n"
    }
   },
   "source": [
    "## Ranking algorithm"
   ]
  },
  {
   "cell_type": "markdown",
   "metadata": {},
   "source": [
    "For the ranking algorithm we chose the Pearson correlation coefficient.\n",
    "\n",
    "We fully implemented it in map/reduce using the following formula.\n",
    "\n",
    "${\\displaystyle r_{xy}={\\frac {n\\sum x_{i}y_{i}-\\sum x_{i}\\sum y_{i}}{{\\sqrt {n\\sum x_{i}^{2}-\\left(\\sum x_{i}\\right)^{2}}}~{\\sqrt {n\\sum y_{i}^{2}-\\left(\\sum y_{i}\\right)^{2}}}}}.}$\n",
    "\n",
    "source : https://en.wikipedia.org/wiki/Pearson_correlation_coefficient"
   ]
  },
  {
   "cell_type": "code",
   "execution_count": 56,
   "metadata": {
    "pycharm": {
     "name": "#%%\n"
    }
   },
   "outputs": [],
   "source": [
    "def pearson_reduce(a, b):\n",
    "    n = a[0] + b[0]\n",
    "    x = a[1] + b[1]\n",
    "    y = a[2] + b[2]\n",
    "    x2 = a[3] + b[3]\n",
    "    y2 = a[4] + b[4]\n",
    "    xy = a[5] + b[5]\n",
    "\n",
    "    return n, x, y, x2, y2, xy\n",
    "\n",
    "def calculate_pearson(a):\n",
    "    import math\n",
    "\n",
    "    n = a[0]\n",
    "    x = a[1]\n",
    "    y = a[2]\n",
    "    x2 = a[3]\n",
    "    y2 = a[4]\n",
    "    xy = a[5]\n",
    "\n",
    "    return (n*xy - x * y) / (math.sqrt((n*x2 - (x**2)) * (n*y2 - (y**2))))\n",
    "\n",
    "def compute_pearson(rdd):\n",
    "    temp = rdd.flatMap(lambda x: [((i, j), (x[1][i], x[1][j])) for i in range(len(x[1])) for j in range(i+1, len(x[1]))]).\\\n",
    "        mapValues(lambda a: (1, a[0], a[1], a[0]**2, a[1]**2, a[0]*a[1])).\\\n",
    "        reduceByKey(pearson_reduce).\\\n",
    "        mapValues(calculate_pearson)\n",
    "    return temp"
   ]
  },
  {
   "cell_type": "markdown",
   "metadata": {},
   "source": [
    "Here we can see the features which correlates the most with another one."
   ]
  },
  {
   "cell_type": "code",
   "execution_count": 57,
   "metadata": {
    "scrolled": true
   },
   "outputs": [
    {
     "name": "stdout",
     "output_type": "stream",
     "text": [
      "Features ranking:\n",
      "\t- distinct_nb, length: 0.9695675322955418\n",
      "\t- same_category, length: 0.8771412318346528\n",
      "\t- distinct_nb, same_category: 0.8747125297247733\n",
      "\t- weekday, weekend: 0.8115747837608694\n",
      "\t- day_period, night: 0.8065095172832625\n",
      "\t- repetitive_nb, length: 0.6950975912677149\n",
      "\t- duration, average_time: 0.6608983332947496\n",
      "\t- month, season: 0.6233941124223703\n",
      "\t- most_viewed_item, longest_item: 0.5464755879768183\n",
      "\t- last_item, most_viewed_item: 0.5413883807901063\n",
      "\t- repetitive_nb, same_category: 0.5384459913705446\n",
      "\t- distinct_nb, diff_category: 0.5196139193089427\n",
      "\t- distinct_nb, repetitive_nb: 0.4979363010038509\n",
      "\t- same_category, most_viewed_item: -0.46302715116708343\n",
      "\t- last_item, longest_item: 0.44988032693378127\n",
      "\t- diff_category, length: 0.4301693973966943\n",
      "\t- distinct_nb, most_viewed_item: -0.4144867681260636\n",
      "\t- most_viewed_item, length: -0.3887090686727713\n",
      "\t- same_category, diff_category: 0.34523725759759144\n",
      "\t- duration, same_category: 0.31322897238753117\n",
      "\t- duration, length: 0.310700174690379\n",
      "\t- duration, repetitive_nb: 0.3097209172288758\n",
      "\t- hour, day_period: 0.27785296393059805\n",
      "\t- duration, distinct_nb: 0.26931722704758676\n",
      "\t- diff_category, categories_nb: 0.2539707887703532\n",
      "\t- diff_category, most_viewed_item: -0.2441027230443342\n",
      "\t- hour, duration: -0.23974404547515452\n",
      "\t- hour, average_time: -0.16305154886976495\n",
      "\t- repetitive_nb, most_viewed_item: -0.15975914830124577\n",
      "\t- hour, night: -0.14806951151356484\n",
      "\t- season, day_of_month: 0.14597801957112064\n",
      "\t- duration, most_viewed_item: -0.13255676918690446\n",
      "\t- duration, diff_category: 0.11772332419469983\n",
      "\t- month, categories_nb: 0.11762344117231113\n",
      "\t- same_category, categories_nb: 0.11209083483848307\n",
      "\t- month, day_of_month: 0.10614033717918231\n",
      "\t- day_of_month, weekend: 0.09262655434609504\n",
      "\t- season, categories_nb: 0.08977296537758163\n",
      "\t- night, duration: 0.07193231231167782\n",
      "\t- hour, repetitive_nb: -0.06692453470746085\n",
      "\t- season, weekend: 0.061048073298698824\n",
      "\t- month, weekend: 0.05804013070538978\n",
      "\t- hour, length: -0.05754480513850394\n",
      "\t- hour, same_category: -0.05442446747724509\n",
      "\t- average_time, same_category: 0.05249989409179548\n",
      "\t- day_of_month, weekday: 0.04825033943705382\n",
      "\t- hour, distinct_nb: -0.046624268879249565\n",
      "\t- average_time, repetitive_nb: 0.04406816421741975\n",
      "\t- night, average_time: 0.04327451941860694\n",
      "\t- month, weekday: 0.043098380279924596\n",
      "\t- distinct_nb, categories_nb: 0.039051144432124346\n",
      "\t- most_viewed_item, categories_nb: -0.03434460369874566\n",
      "\t- length, categories_nb: 0.030295712870127573\n",
      "\t- day_of_month, categories_nb: 0.02688523631644057\n",
      "\t- hour, diff_category: -0.026100912202328182\n",
      "\t- average_time, diff_category: -0.0255617977822587\n",
      "\t- season, hour: -0.025561563043877807\n",
      "\t- night, repetitive_nb: 0.020321425074386883\n",
      "\t- night, length: 0.02031855589560026\n",
      "\t- day_period, average_time: -0.019955759132548986\n",
      "\t- hour, most_viewed_item: 0.019569707699510944\n",
      "\t- season, weekday: 0.01920350413054631\n",
      "\t- night, distinct_nb: 0.01758949016110932\n",
      "\t- average_time, most_viewed_item: -0.0175470372397686\n",
      "\t- day_of_month, repetitive_nb: 0.01715648831644106\n",
      "\t- day_period, duration: -0.016982365156707646\n",
      "\t- night, same_category: 0.01608353808487768\n",
      "\t- season, diff_category: 0.015254360683372934\n",
      "\t- duration, categories_nb: 0.015093528439379472\n",
      "\t- month, longest_item: -0.014629240755196312\n",
      "\t- weekend, categories_nb: 0.014426886444107088\n",
      "\t- day_of_month, same_category: 0.014318891161646544\n",
      "\t- day_of_month, length: 0.013944568854300721\n",
      "\t- month, most_viewed_item: -0.013593845616863082\n",
      "\t- average_time, categories_nb: 0.01339785897790696\n",
      "\t- season, same_category: 0.01286711769792632\n",
      "\t- weekday, diff_category: 0.01270356510038489\n",
      "\t- month, last_item: -0.012031348094932321\n",
      "\t- day_of_month, most_viewed_item: -0.011908295820377494\n",
      "\t- weekday, hour: 0.011779953977024481\n",
      "\t- weekend, diff_category: 0.011723382189129395\n",
      "\t- weekday, categories_nb: 0.01164765983516837\n",
      "\t- last_item, categories_nb: -0.011511451551554227\n",
      "\t- day_of_month, distinct_nb: 0.010978481662824212\n",
      "\t- day_period, categories_nb: -0.010930645655030522\n",
      "\t- weekday, day_period: 0.010773839308739847\n",
      "\t- longest_item, categories_nb: -0.01056977958289807\n",
      "\t- weekend, hour: -0.00904989887088579\n",
      "\t- month, same_category: 0.00903056280126667\n",
      "\t- season, repetitive_nb: -0.009014680126429368\n",
      "\t- average_time, length: 0.008903172595916909\n",
      "\t- night, diff_category: 0.008863169879799036\n",
      "\t- season, most_viewed_item: -0.008810963080488421\n",
      "\t- season, day_period: -0.008507691289664545\n",
      "\t- repetitive_nb, categories_nb: -0.00735881356352677\n",
      "\t- weekend, same_category: 0.007335385446934843\n",
      "\t- label, month: -0.0071614357553861745\n",
      "\t- day_of_month, duration: 0.0071442945283755645\n",
      "\t- label, categories_nb: -0.007089466587622477\n",
      "\t- day_of_month, hour: -0.007034171069057396\n",
      "\t- weekend, most_viewed_item: -0.006934513185179691\n",
      "\t- night, categories_nb: -0.0069007149854379704\n",
      "\t- night, most_viewed_item: -0.006859801678991743\n",
      "\t- month, day_period: 0.00685499167988161\n",
      "\t- month, distinct_nb: 0.00682495857748242\n",
      "\t- day_period, distinct_nb: 0.006742565220837649\n",
      "\t- hour, categories_nb: -0.00655864857408521\n",
      "\t- day_of_month, longest_item: -0.006422735843502311\n",
      "\t- label, day_of_month: -0.006264159623711706\n",
      "\t- day_of_month, day_period: -0.0062439837536558485\n",
      "\t- diff_category, last_item: -0.006141362878042972\n",
      "\t- month, repetitive_nb: -0.00600320093851599\n",
      "\t- season, distinct_nb: 0.005883082418371093\n",
      "\t- month, diff_category: -0.005643886837362085\n",
      "\t- season, longest_item: -0.005493060420072294\n",
      "\t- weekend, distinct_nb: 0.0052994110849206135\n",
      "\t- day_of_month, last_item: -0.005254923446111013\n",
      "\t- month, night: 0.005187394512746112\n",
      "\t- weekend, length: 0.005187082259515365\n",
      "\t- day_period, length: 0.0050924907376902135\n",
      "\t- weekend, duration: 0.005088928680577816\n",
      "\t- label, season: -0.004767394584903221\n",
      "\t- average_time, distinct_nb: -0.004267529527722385\n",
      "\t- diff_category, longest_item: -0.0041464702299428636\n",
      "\t- month, length: 0.003963083549058649\n",
      "\t- month, hour: 0.003955032381236807\n",
      "\t- season, last_item: -0.003719071654812882\n",
      "\t- weekday, duration: 0.0036333649195898635\n",
      "\t- repetitive_nb, last_item: 0.0034900514739410944\n",
      "\t- weekend, night: 0.003292100995093848\n",
      "\t- weekday, same_category: 0.002937783649153189\n",
      "\t- label, length: 0.002930539306274257\n",
      "\t- day_period, diff_category: 0.002891553154853355\n",
      "\t- weekday, average_time: 0.0028791020516832316\n",
      "\t- weekend, repetitive_nb: 0.0028121428990991616\n",
      "\t- label, distinct_nb: 0.0027738942053009237\n",
      "\t- day_of_month, diff_category: -0.002674693004248955\n",
      "\t- day_period, most_viewed_item: -0.002646301742011551\n",
      "\t- weekday, most_viewed_item: -0.0025868042189817497\n",
      "\t- weekday, night: 0.0025308600912006384\n",
      "\t- label, same_category: 0.0025279332476597477\n",
      "\t- day_of_month, average_time: 0.002479320317392284\n",
      "\t- weekend, last_item: -0.0024752652361209456\n",
      "\t- label, most_viewed_item: -0.0024521005141891605\n",
      "\t- weekend, day_period: -0.0023817461088866693\n",
      "\t- weekend, average_time: 0.002353345647785115\n",
      "\t- season, length: 0.0023320993331284157\n",
      "\t- label, weekend: -0.0022594336768649668\n",
      "\t- label, repetitive_nb: 0.002235108828861097\n",
      "\t- repetitive_nb, diff_category: -0.002081858427084804\n",
      "\t- month, duration: 0.002051101194273816\n",
      "\t- label, diff_category: -0.0020495355809238697\n",
      "\t- last_item, length: 0.002048817726985527\n",
      "\t- label, weekday: -0.001951938823723691\n",
      "\t- night, longest_item: -0.001943973833489433\n",
      "\t- day_period, same_category: 0.0018766732153810489\n",
      "\t- weekend, longest_item: -0.0018476981682499641\n",
      "\t- duration, longest_item: -0.0017847991714545445\n",
      "\t- day_period, repetitive_nb: -0.0017606795638722738\n",
      "\t- weekday, distinct_nb: 0.0016916827619533887\n",
      "\t- repetitive_nb, longest_item: 0.001648554580144971\n",
      "\t- day_period, longest_item: -0.0016244605646707432\n",
      "\t- label, duration: 0.0016147845578625055\n",
      "\t- label, longest_item: -0.00159280811850096\n",
      "\t- label, last_item: -0.0014335263673236035\n",
      "\t- weekday, length: 0.001361518465248011\n",
      "\t- same_category, last_item: 0.0013420463387638906\n",
      "\t- distinct_nb, last_item: 0.001282924520318389\n",
      "\t- average_time, last_item: -0.0012660968299607507\n",
      "\t- weekday, longest_item: -0.0010841734246430737\n",
      "\t- weekday, last_item: -0.0010591771958190566\n",
      "\t- day_of_month, night: -0.0009902686855682117\n",
      "\t- month, average_time: 0.0009889017895729007\n",
      "\t- average_time, longest_item: -0.000776961614604601\n",
      "\t- duration, last_item: -0.0007185573049818311\n",
      "\t- hour, last_item: 0.0007157208139918282\n",
      "\t- season, night: 0.0006203297352799455\n",
      "\t- label, night: -0.0006003490621040677\n",
      "\t- label, average_time: 0.0005275049188529127\n",
      "\t- season, average_time: -0.0002743424580040347\n",
      "\t- distinct_nb, longest_item: -0.00026663658236404344\n",
      "\t- season, duration: 0.0002519610088782175\n",
      "\t- length, longest_item: 0.00024436495640727603\n",
      "\t- hour, longest_item: 0.0002309302673482461\n",
      "\t- same_category, longest_item: -0.00019622993690608456\n",
      "\t- label, hour: 0.00014790122764263172\n",
      "\t- weekday, repetitive_nb: -0.00014479557283563998\n",
      "\t- label, day_period: -0.00013857527522151224\n",
      "\t- night, last_item: -8.610836672470449e-05\n",
      "\t- day_period, last_item: -6.700395188663669e-05\n"
     ]
    }
   ],
   "source": [
    "features_score_rdd = compute_pearson(BIG_RDD)\n",
    "features_score = features_score_rdd.collect()\n",
    "features_score.sort(key=lambda x: abs(x[1]), reverse=True)\n",
    "\n",
    "names = [\"label\"] + features_name \n",
    "\n",
    "print(\"Features ranking:\")\n",
    "for feat in features_score:\n",
    "    print(f\"\\t- {names[feat[0][0]]}, {names[feat[0][1]]}: {feat[1]}\")"
   ]
  },
  {
   "cell_type": "code",
   "execution_count": 58,
   "metadata": {},
   "outputs": [],
   "source": [
    "mat = [[0] * len(names) for i in range(len(names))]\n",
    "for feat in features_score:\n",
    "    i,j = feat[0]\n",
    "    mat[j][i] = feat[1]\n",
    "    mat[j][j] = 1\n",
    "    mat[i][i] = 1"
   ]
  },
  {
   "cell_type": "markdown",
   "metadata": {},
   "source": [
    "Here we show a matrix containing these correlation coefficient."
   ]
  },
  {
   "cell_type": "code",
   "execution_count": 62,
   "metadata": {},
   "outputs": [
    {
     "data": {
      "image/png": "[encoded data removed]",
      "text/plain": [
       "<Figure size 1800x1800 with 2 Axes>"
      ]
     },
     "metadata": {},
     "output_type": "display_data"
    }
   ],
   "source": [
    "import numpy as np\n",
    "import seaborn as sns\n",
    "import matplotlib.pyplot as plt\n",
    "\n",
    "\n",
    "\n",
    "mask = np.zeros_like(mat)\n",
    "mask[np.triu_indices_from(mask, 1)] = True\n",
    "with sns.axes_style(\"white\"):\n",
    "\n",
    "    f, ax = plt.subplots(figsize=(25, 25))\n",
    "    ax = sns.heatmap(mat, mask=mask, square=True, annot=True, fmt=\"f\", cmap=\"RdYlGn\", xticklabels=names, yticklabels=names)"
   ]
  },
  {
   "cell_type": "markdown",
   "metadata": {
    "pycharm": {
     "name": "#%% md\n"
    }
   },
   "source": [
    "## Forward feature selection"
   ]
  },
  {
   "cell_type": "markdown",
   "metadata": {
    "pycharm": {
     "name": "#%%\n"
    }
   },
   "source": [
    "For the forward feature selection we chose the MRMR algorithm."
   ]
  },
  {
   "cell_type": "code",
   "execution_count": null,
   "metadata": {},
   "outputs": [],
   "source": []
  },
  {
   "cell_type": "markdown",
   "metadata": {
    "pycharm": {
     "name": "#%% md\n"
    }
   },
   "source": [
    "# Part 3 : Model"
   ]
  },
  {
   "cell_type": "markdown",
   "metadata": {
    "pycharm": {
     "name": "#%% md\n"
    }
   },
   "source": [
    "The model should be trained on the data with the selected features and should returned the predictions required by the competition. For each test session, the model should return 100 candidates items with the highest chance of being purchased. This restricts the differents models that can be used. Therefore the naive Bayes model was selected."
   ]
  },
  {
   "cell_type": "code",
   "execution_count": 38,
   "metadata": {},
   "outputs": [],
   "source": [
    "from pyspark.ml.classification import DecisionTreeClassifier, NaiveBayes\n",
    "from pyspark.ml.feature import VectorAssembler, StringIndexer\n",
    "from pyspark.ml.evaluation import MulticlassClassificationEvaluator"
   ]
  },
  {
   "cell_type": "markdown",
   "metadata": {},
   "source": [
    "Let's first transform our rdd which contains all the data into a dataframe which the classifier can use."
   ]
  },
  {
   "cell_type": "code",
   "execution_count": 40,
   "metadata": {},
   "outputs": [],
   "source": [
    "def collector(x):\n",
    "    dico = {}\n",
    "    dico[\"session_id\"] = x[0]\n",
    "    dico[\"item_id\"] = x[1][0]\n",
    "    for i in range(len(features_name)):\n",
    "        dico[features_name[i]] = x[1][i+1]\n",
    "    return dico\n",
    "        "
   ]
  },
  {
   "cell_type": "code",
   "execution_count": 41,
   "metadata": {},
   "outputs": [],
   "source": [
    "from pyspark.sql.types import Row\n",
    "df = BIG_RDD.map(lambda x: Row(**collector(x))).toDF()\n",
    "\n",
    "df = df.withColumnRenamed(\"item_id\", \"label\")\n",
    "df = VectorAssembler(inputCols = features_name, outputCol = \"features\", handleInvalid=\"skip\").transform(df)\n",
    "df = df.select([\"features\", \"label\"])"
   ]
  },
  {
   "cell_type": "code",
   "execution_count": 42,
   "metadata": {},
   "outputs": [
    {
     "name": "stdout",
     "output_type": "stream",
     "text": [
      "+--------------------+-----+\n",
      "|            features|label|\n",
      "+--------------------+-----+\n",
      "|[10.0,3.0,11.0,0....|12090|\n",
      "|[11.0,3.0,27.0,5....| 8060|\n",
      "|[11.0,3.0,29.0,0....| 9478|\n",
      "|[6.0,2.0,26.0,5.0...|15287|\n",
      "|[7.0,2.0,7.0,2.0,...|  101|\n",
      "+--------------------+-----+\n",
      "only showing top 5 rows\n",
      "\n"
     ]
    }
   ],
   "source": [
    "df.show(5)"
   ]
  },
  {
   "cell_type": "markdown",
   "metadata": {},
   "source": [
    "Now we can split the dataset, 75% will be used for the training and the rest will be used for the test."
   ]
  },
  {
   "cell_type": "code",
   "execution_count": 43,
   "metadata": {},
   "outputs": [],
   "source": [
    "train, test = df.randomSplit([0.75, 0.25])"
   ]
  },
  {
   "cell_type": "markdown",
   "metadata": {},
   "source": [
    "Now we can train our model with the training dataset."
   ]
  },
  {
   "cell_type": "code",
   "execution_count": 44,
   "metadata": {},
   "outputs": [],
   "source": [
    "nb = NaiveBayes(smoothing=1.0, modelType=\"multinomial\")\n",
    "model = nb.fit(train)"
   ]
  },
  {
   "cell_type": "markdown",
   "metadata": {},
   "source": [
    "Finally we can test the accuracy of our model on the test dataset."
   ]
  },
  {
   "cell_type": "code",
   "execution_count": null,
   "metadata": {},
   "outputs": [],
   "source": [
    "pred = model.transform(test)\n",
    "\n",
    "evaluator = MulticlassClassificationEvaluator(labelCol=\"label\", predictionCol=\"prediction\", metricName=\"accuracy\") \n",
    "nbaccuracy = evaluator.evaluate(pred) \n",
    "print(\"Test accuracy = \" + str(nbaccuracy))"
   ]
  },
  {
   "cell_type": "markdown",
   "metadata": {},
   "source": [
    "We can see that the accuracy of our model is quite low which can be explained by the large number of different items in the dataset. Even in the RecSys Challenge 2022, it asked for each session to give 100 items which have the highest probability."
   ]
  },
  {
   "cell_type": "code",
   "execution_count": null,
   "metadata": {},
   "outputs": [],
   "source": []
  },
  {
   "cell_type": "markdown",
   "metadata": {},
   "source": [
    "Now we can get the predictions for the RecSys Challenge 2022's leaderboard.\n",
    "\n",
    "First we load the specific dataset."
   ]
  },
  {
   "cell_type": "code",
   "execution_count": 45,
   "metadata": {},
   "outputs": [],
   "source": [
    "leaderboard_sessions = spark.read.csv(\"dressipi_recsys2022/test_leaderboard_sessions.csv\", header=True)\n",
    "leaderboard_sessions = leaderboard_sessions.withColumn(\"session_id\", leaderboard_sessions[\"session_id\"].cast(\"int\"))\n",
    "leaderboard_sessions = leaderboard_sessions.withColumn(\"item_id\", leaderboard_sessions[\"item_id\"].cast(\"int\"))\n",
    "leaderboard_sessions = leaderboard_sessions.withColumn(\"date\", leaderboard_sessions[\"date\"].cast(\"timestamp\"))\n",
    "train_sessions = leaderboard_sessions"
   ]
  },
  {
   "cell_type": "markdown",
   "metadata": {},
   "source": [
    "Then we compute the values of all the different features."
   ]
  },
  {
   "cell_type": "code",
   "execution_count": 46,
   "metadata": {},
   "outputs": [],
   "source": [
    "\n",
    "session_item_date_rdd = leaderboard_sessions.rdd.map(lambda x: (x[\"session_id\"], (x[\"item_id\"], x[\"date\"]))).cache()\n",
    "session_item_rdd = session_item_date_rdd.mapValues(lambda x: (x[0])).cache()\n",
    "session_date_rdd = session_item_date_rdd.mapValues(lambda x: (x[1])).cache()\n",
    "\n",
    "month = get_month_feature()\n",
    "season = get_season_feature()\n",
    "day_of_month = get_day_of_month_feature()\n",
    "weekday = get_weekday_feature()\n",
    "weekend = get_weekend_feature()\n",
    "hour = get_hour_feature()\n",
    "day_period = get_day_period_feature()\n",
    "night = get_night_feature()\n",
    "duration = get_duration_feature()\n",
    "average_time = get_average_time_feature()\n",
    "distinct_nb = get_distinct_nb_feature()\n",
    "repetitive_nb = get_repetitive_nb_feature()\n",
    "same_category = get_same_category_feature()\n",
    "diff_category = get_diff_category()\n",
    "last_item = get_last_item_feature()\n",
    "most_present_category = get_most_present_category_feature()\n",
    "most_viewed_item = get_most_viewed_item_feature()\n",
    "length = get_length_feature()\n",
    "longest_item = get_longest_item_feature()\n",
    "categories_nb = get_categories_nb_feature()\n",
    "hash_items = get_hash_items_feature()\n",
    "\n",
    "features = [month, season, day_of_month, weekday, weekend, hour, day_period, night, duration, average_time, distinct_nb, repetitive_nb, same_category, diff_category, last_item, most_viewed_item, length, longest_item, categories_nb]\n",
    "test_rdd = features[0].join(features[1])\n",
    "for i in range(2, len(features)):\n",
    "    feature = features[i]\n",
    "    test_rdd = test_rdd.join(feature).mapValues(lambda x: list(x[0])+[x[1]])\n"
   ]
  },
  {
   "cell_type": "code",
   "execution_count": 47,
   "metadata": {},
   "outputs": [
    {
     "data": {
      "text/plain": [
       "[(3040950,\n",
       "  [6,\n",
       "   2,\n",
       "   5,\n",
       "   6,\n",
       "   1,\n",
       "   18,\n",
       "   3,\n",
       "   1,\n",
       "   0.0,\n",
       "   0.0,\n",
       "   1,\n",
       "   0,\n",
       "   0,\n",
       "   21,\n",
       "   20504,\n",
       "   20504,\n",
       "   1,\n",
       "   20504,\n",
       "   21.0])]"
      ]
     },
     "execution_count": 47,
     "metadata": {},
     "output_type": "execute_result"
    }
   ],
   "source": [
    "test_rdd.take(1)"
   ]
  },
  {
   "cell_type": "markdown",
   "metadata": {},
   "source": [
    "Next we transform our RDD to a dataframe which can be used by our model."
   ]
  },
  {
   "cell_type": "code",
   "execution_count": 49,
   "metadata": {},
   "outputs": [],
   "source": [
    "def test_collector(x):\n",
    "    dico = {}\n",
    "    dico[\"session_id\"] = x[0]\n",
    "    for i in range(len(features_name)):\n",
    "        dico[features_name[i]] = x[1][i]\n",
    "    return dico\n",
    "\n",
    "\n",
    "test_df = test_rdd.map(lambda x: Row(**test_collector(x))).toDF()\n",
    "\n",
    "test_df = VectorAssembler(inputCols = features_name, outputCol = \"features\", handleInvalid=\"skip\").transform(test_df)\n",
    "test_df = test_df.select([\"features\", \"session_id\"])"
   ]
  },
  {
   "cell_type": "code",
   "execution_count": 50,
   "metadata": {},
   "outputs": [
    {
     "name": "stdout",
     "output_type": "stream",
     "text": [
      "+--------------------+----------+\n",
      "|            features|session_id|\n",
      "+--------------------+----------+\n",
      "|[6.0,2.0,5.0,6.0,...|   3040950|\n",
      "|[6.0,2.0,23.0,3.0...|     62700|\n",
      "|[6.0,2.0,5.0,6.0,...|    176550|\n",
      "|[6.0,2.0,1.0,2.0,...|     19800|\n",
      "|[6.0,2.0,8.0,2.0,...|   3582150|\n",
      "+--------------------+----------+\n",
      "only showing top 5 rows\n",
      "\n"
     ]
    }
   ],
   "source": [
    "test_df.show(5)"
   ]
  },
  {
   "cell_type": "markdown",
   "metadata": {},
   "source": [
    "We create a new naive Bayes model that will be trained on the whole dataset."
   ]
  },
  {
   "cell_type": "code",
   "execution_count": 51,
   "metadata": {
    "scrolled": false
   },
   "outputs": [],
   "source": [
    "nb = NaiveBayes(smoothing=1.0, modelType=\"multinomial\")\n",
    "model = nb.fit(df)"
   ]
  },
  {
   "cell_type": "markdown",
   "metadata": {},
   "source": [
    "Finally we gather all the results we computed and save them to a CSV file with the structures asked by the RecSys Challenge 2022."
   ]
  },
  {
   "cell_type": "code",
   "execution_count": 52,
   "metadata": {
    "scrolled": false
   },
   "outputs": [],
   "source": [
    "pred = model.transform(test_df)"
   ]
  },
  {
   "cell_type": "code",
   "execution_count": 53,
   "metadata": {},
   "outputs": [
    {
     "name": "stdout",
     "output_type": "stream",
     "text": [
      "+--------------------+----------+--------------------+--------------------+----------+\n",
      "|            features|session_id|       rawPrediction|         probability|prediction|\n",
      "+--------------------+----------+--------------------+--------------------+----------+\n",
      "|[6.0,2.0,5.0,6.0,...|   3040950|[-73581.314254785...|[0.0,0.0,0.0,0.0,...|   11157.0|\n",
      "+--------------------+----------+--------------------+--------------------+----------+\n",
      "only showing top 1 row\n",
      "\n"
     ]
    }
   ],
   "source": [
    "pred.show(1)"
   ]
  },
  {
   "cell_type": "code",
   "execution_count": 54,
   "metadata": {},
   "outputs": [],
   "source": [
    "from ipywidgets import IntProgress\n",
    "from IPython.display import display"
   ]
  },
  {
   "cell_type": "code",
   "execution_count": 55,
   "metadata": {},
   "outputs": [
    {
     "data": {
      "application/vnd.jupyter.widget-view+json": {
       "model_id": "117c4f3199e446e9a76532dd453de79e",
       "version_major": 2,
       "version_minor": 0
      },
      "text/plain": [
       "IntProgress(value=0, max=50000)"
      ]
     },
     "metadata": {},
     "output_type": "display_data"
    }
   ],
   "source": [
    "progressbar = IntProgress(min=0, max=pred.count())\n",
    "display(progressbar)\n",
    "\n",
    "#pred_iterator = pred.select(\"probability\").rdd.toLocalIterator()\n",
    "pred_iterator = pred.rdd.toLocalIterator()\n",
    "session_id = 1\n",
    "with open(\"predictions2.csv\", \"w\") as file:\n",
    "    file.write(\"session_id,item_id,rank\\n\")\n",
    "    for row in pred_iterator:\n",
    "        # print(f\"Starting session {session_id} / {pred.count()}\")\n",
    "        \n",
    "        temp = list(row[\"probability\"])\n",
    "\n",
    "        temp = [(temp[i], i) for i in range(len(temp))]\n",
    "        temp.sort(reverse=True)\n",
    "        \n",
    "        temp = temp[:100]\n",
    "        for l in range(100):\n",
    "            file.write(f\"{row['session_id']},{temp[l][1]},{l+1}\\n\")\n",
    "        \n",
    "        progressbar.value += 1\n",
    "        session_id += 1"
   ]
  },
  {
   "cell_type": "code",
   "execution_count": null,
   "metadata": {},
   "outputs": [],
   "source": [
    "spark.stop()"
   ]
  }
 ],
 "metadata": {
  "kernelspec": {
   "display_name": "Python 3",
   "language": "python",
   "name": "python3"
  },
  "language_info": {
   "codemirror_mode": {
    "name": "ipython",
    "version": 3
   },
   "file_extension": ".py",
   "mimetype": "text/x-python",
   "name": "python",
   "nbconvert_exporter": "python",
   "pygments_lexer": "ipython3",
   "version": "3.7.3"
  }
 },
 "nbformat": 4,
 "nbformat_minor": 1
}
